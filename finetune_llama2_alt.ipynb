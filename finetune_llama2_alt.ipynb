{
 "cells": [
  {
   "cell_type": "code",
   "execution_count": 1,
   "metadata": {},
   "outputs": [
    {
     "name": "stdout",
     "output_type": "stream",
     "text": [
      "Token is valid.\n",
      "Your token has been saved in your configured git credential helpers (manager-core).\n",
      "Your token has been saved to C:\\Users\\rohan\\.cache\\huggingface\\token\n",
      "Login successful\n"
     ]
    }
   ],
   "source": [
    "from huggingface_hub import notebook_login\n",
    "notebook_login()"
   ]
  },
  {
   "cell_type": "code",
   "execution_count": 3,
   "metadata": {},
   "outputs": [
    {
     "name": "stderr",
     "output_type": "stream",
     "text": [
      "usage: autotrain <command> [<args>]\n",
      "AutoTrain advanced CLI: error: argument {app}: invalid choice: 'llm' (choose from 'app')\n"
     ]
    }
   ],
   "source": [
    "# Finetune LLM\n",
    "!autotrain llm \\\n",
    "    --train --project_name my-llm \\\n",
    "    --model meta-llama/Llama-2-7b-hf \\\n",
    "    --data_path . \\\n",
    "    --use_peft \\\n",
    "    --use_4bit \\\n",
    "    --learning_rate 2e-4 \\\n",
    "    --train_batch_size 2 \\\n",
    "    --num_train_epochs 3 \\\n",
    "    --trainer sft \\\n",
    "    # --model_max_length 2048 \\\n",
    "    # --push_to_hub \\\n",
    "    # --repo_id your_repo_id -"
   ]
  },
  {
   "cell_type": "code",
   "execution_count": null,
   "metadata": {},
   "outputs": [],
   "source": []
  }
 ],
 "metadata": {
  "kernelspec": {
   "display_name": "Python 3.10.11 ('venv': venv)",
   "language": "python",
   "name": "python3"
  },
  "language_info": {
   "codemirror_mode": {
    "name": "ipython",
    "version": 3
   },
   "file_extension": ".py",
   "mimetype": "text/x-python",
   "name": "python",
   "nbconvert_exporter": "python",
   "pygments_lexer": "ipython3",
   "version": "3.10.11"
  },
  "orig_nbformat": 4,
  "vscode": {
   "interpreter": {
    "hash": "25ccdb22f5ac287d3e1f8e7ec3c53971c69a9ec1002f1fe8e022074831f390f0"
   }
  }
 },
 "nbformat": 4,
 "nbformat_minor": 2
}
